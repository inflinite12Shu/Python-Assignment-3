{
  "nbformat": 4,
  "nbformat_minor": 0,
  "metadata": {
    "colab": {
      "provenance": []
    },
    "kernelspec": {
      "name": "python3",
      "display_name": "Python 3"
    },
    "language_info": {
      "name": "python"
    }
  },
  "cells": [
    {
      "cell_type": "markdown",
      "source": [
        "# Exercise 1:\n",
        " Create a function in Python\n",
        "\n",
        "\n",
        "---\n",
        "Write a program to create a function that takes two arguments, name and age, and print their value.\n",
        "\n"
      ],
      "metadata": {
        "id": "LlNE6NTNleEf"
      }
    },
    {
      "cell_type": "code",
      "execution_count": 10,
      "metadata": {
        "colab": {
          "base_uri": "https://localhost:8080/"
        },
        "id": "o8AEiaqmlPSH",
        "outputId": "5202cf3c-16eb-4ceb-aa46-5dc57f12d7db"
      },
      "outputs": [
        {
          "output_type": "stream",
          "name": "stdout",
          "text": [
            "Name: Yasir\n",
            "Age: 22\n"
          ]
        }
      ],
      "source": [
        "def Arg(name, age):\n",
        "    print(\"Name:\", name)\n",
        "    print(\"Age:\", age)\n",
        "\n",
        "Arg(\"Yasir\", 22)"
      ]
    },
    {
      "cell_type": "markdown",
      "source": [
        "#Exercise 2:\n",
        "Create a function with variable length of arguments\n",
        "\n",
        "\n",
        "---\n",
        "\n",
        "Write a program to create function func1() to accept a variable length of arguments and print their value.\n",
        "\n",
        " Create a function in such a way that we can pass any number of arguments to this function, and the function should process them and display each argument’s value.\n",
        "\n",
        "Function call:\n",
        "# call function with 3 arguments\n",
        "func1(20, 40, 60)\n",
        "\n",
        "# call function with 2 arguments\n",
        "func1(80, 100)\n",
        "Expected Output:\n",
        "Printing values\n",
        "\n",
        "20\n",
        "\n",
        "40\n",
        "\n",
        "60\n",
        "\n",
        "Printing values\n",
        "\n",
        "80\n",
        "\n",
        "100\n"
      ],
      "metadata": {
        "id": "ggrQOwCaosKj"
      }
    },
    {
      "cell_type": "code",
      "source": [
        "def func1(*args):\n",
        "    print(\"Printing values\")\n",
        "    for arg in args:\n",
        "        print(arg)\n",
        "\n",
        "\n",
        "func1(20, 40, 60)\n",
        "\n",
        "\n",
        "func1(80, 100)"
      ],
      "metadata": {
        "colab": {
          "base_uri": "https://localhost:8080/"
        },
        "id": "v10RG7upm41q",
        "outputId": "069d6f58-48af-4e76-e63c-efb32aa4bbfd"
      },
      "execution_count": 11,
      "outputs": [
        {
          "output_type": "stream",
          "name": "stdout",
          "text": [
            "Printing values\n",
            "20\n",
            "40\n",
            "60\n",
            "Printing values\n",
            "80\n",
            "100\n"
          ]
        }
      ]
    },
    {
      "cell_type": "markdown",
      "source": [
        "# Exercise 3: \n",
        "Return multiple values from a function\n",
        "\n",
        "\n",
        "---\n",
        "\n",
        "Write a program to create function calculation() such that it can accept two variables and calculate addition and subtraction. Also, it must return both addition and subtraction in a single return call.\n",
        "Given:\n",
        "def calculation(a, b):\n",
        "    # Your Code \n",
        "    es = calculation(40, 10)\n",
        "    print(res)\n",
        "    Expected Output\n",
        "    50,\n",
        "     30\n"
      ],
      "metadata": {
        "id": "k8LrNw_1pp8U"
      }
    },
    {
      "cell_type": "code",
      "source": [
        "def cal(a, b):\n",
        "    add = a + b\n",
        "    sub = a - b\n",
        "    return add, sub\n",
        "res = cal(40, 10)\n",
        "print(res[0])\n",
        "print(res[1])"
      ],
      "metadata": {
        "colab": {
          "base_uri": "https://localhost:8080/"
        },
        "id": "7GeXeHDGppgo",
        "outputId": "4e5ab7c6-11e4-47be-a858-0a819f90b193"
      },
      "execution_count": 1,
      "outputs": [
        {
          "output_type": "stream",
          "name": "stdout",
          "text": [
            "50\n",
            "30\n"
          ]
        }
      ]
    },
    {
      "cell_type": "markdown",
      "source": [
        "#Exercise 4:\n",
        " Create a function with a default argument\n",
        "\n",
        "\n",
        "---\n",
        "\n",
        "\n",
        "Write a program to create a function show_employee() using the following conditions.\n",
        "•\tIt should accept the employee’s name and salary and display both.\n",
        "•\tIf the salary is missing in the function call then assign default value 9000 to salary\n",
        "\n",
        "Given:\n",
        "\n",
        "showEmployee(\"Ben\", 12000)\n",
        "\n",
        "showEmployee(\"Jessa\")\n",
        "\n",
        "Expected output:\n",
        "\n",
        "Name: Ben salary: 12000\n",
        "\n",
        "Name: Jessa salary: 9000\n",
        "\n"
      ],
      "metadata": {
        "id": "FHiCmYgABM6x"
      }
    },
    {
      "cell_type": "code",
      "source": [
        "def show_employee(name, salary=9000):\n",
        "    print(\"Name:\", name, \"salary:\", salary)\n",
        "show_employee(\"Ben\", 12000)   \n",
        "show_employee(\"Jessa\")       \n"
      ],
      "metadata": {
        "colab": {
          "base_uri": "https://localhost:8080/"
        },
        "id": "Y5-wBHNGBMYM",
        "outputId": "57333917-3a53-4dfd-eb1e-6a3df6168c4e"
      },
      "execution_count": 2,
      "outputs": [
        {
          "output_type": "stream",
          "name": "stdout",
          "text": [
            "Name: Ben salary: 12000\n",
            "Name: Jessa salary: 9000\n"
          ]
        }
      ]
    },
    {
      "cell_type": "markdown",
      "source": [
        "# Exercise 5: \n",
        "Create an inner function to calculate the addition in the following way\n",
        "\n",
        "\n",
        "---\n",
        "\n",
        "\n",
        "•\tCreate an outer function that will accept two parameters, a and b\n",
        "\n",
        "•\tCreate an inner function inside an outer function that will calculate the addition of a and b\n",
        "\n",
        "•\tAt last, an outer function will add 5 into addition and return it\n"
      ],
      "metadata": {
        "id": "VCUg38yUCPTB"
      }
    },
    {
      "cell_type": "code",
      "source": [
        "def outer_function(a, b):\n",
        "    def inner_function():\n",
        "        return a + b\n",
        "    result = inner_function() + 5\n",
        "    return result\n",
        "outer_function(0,0)"
      ],
      "metadata": {
        "colab": {
          "base_uri": "https://localhost:8080/"
        },
        "id": "SsQOthkMCl1S",
        "outputId": "531ebd90-4d47-44d7-b865-ea37a7c76453"
      },
      "execution_count": 7,
      "outputs": [
        {
          "output_type": "execute_result",
          "data": {
            "text/plain": [
              "5"
            ]
          },
          "metadata": {},
          "execution_count": 7
        }
      ]
    },
    {
      "cell_type": "markdown",
      "source": [
        "# :Exercise 6:\n",
        " Create a recursive function\n",
        "\n",
        "\n",
        "---\n",
        "\n",
        "\n",
        "Write a program to create a recursive function to calculate the sum of numbers from 0 to 10.\n",
        "\n",
        "A recursive function is a function that calls itself again and again.\n",
        "\n",
        "Expected Output:\n",
        "\n",
        "55\n"
      ],
      "metadata": {
        "id": "kAheOtSTCxLr"
      }
    },
    {
      "cell_type": "code",
      "source": [
        "def calculate_sum(n):\n",
        "    if n == 0:\n",
        "        return 0\n",
        "    else:\n",
        "        return n + calculate_sum(n-1)\n",
        "\n",
        "print(calculate_sum(10))"
      ],
      "metadata": {
        "colab": {
          "base_uri": "https://localhost:8080/"
        },
        "id": "dGlBFS6hDcJl",
        "outputId": "908c804e-7c9e-4a00-9491-d512c513550c"
      },
      "execution_count": 8,
      "outputs": [
        {
          "output_type": "stream",
          "name": "stdout",
          "text": [
            "55\n"
          ]
        }
      ]
    },
    {
      "cell_type": "markdown",
      "source": [
        "#Exercise 7:\n",
        " Assign a different name to function and call it through the new name\n",
        "\n",
        "\n",
        "---\n",
        "\n",
        "\n",
        "Below is the function display_student(name, age). Assign a new name show_student(name, age) to it and call it using the new name.\n",
        "\n",
        "Given:\n",
        "\n",
        "def display_student(name, age):\n",
        "\n",
        "    print(name, age)\n",
        "    display_student(\"Emma\", 26)\n",
        "You should be able to call the same function using\n",
        "show_student(name, age)\n"
      ],
      "metadata": {
        "id": "QVpx1vuFDjfS"
      }
    },
    {
      "cell_type": "code",
      "source": [
        "def display_student(name, age):\n",
        "    print(name, age)\n",
        "\n",
        "show_student = display_student  \n",
        "\n",
        "show_student(\"Emma\", 26)  "
      ],
      "metadata": {
        "colab": {
          "base_uri": "https://localhost:8080/"
        },
        "id": "yfvnrtWQD6fO",
        "outputId": "8493ad63-da69-41eb-8c16-09e224b41b12"
      },
      "execution_count": 9,
      "outputs": [
        {
          "output_type": "stream",
          "name": "stdout",
          "text": [
            "Emma 26\n"
          ]
        }
      ]
    }
  ]
}