{
  "nbformat": 4,
  "nbformat_minor": 0,
  "metadata": {
    "colab": {
      "provenance": []
    },
    "kernelspec": {
      "name": "python3",
      "display_name": "Python 3"
    },
    "language_info": {
      "name": "python"
    }
  },
  "cells": [
    {
      "cell_type": "markdown",
      "source": [
        "# Exercise 1: \n",
        "Convert two lists into a dictionary\n",
        "Below are the two lists. Write a Python program to convert them into a dictionary\n",
        "\n",
        "\n",
        "---\n",
        "in a way that item from list1 is the key and item from list2 is the value\n",
        "\n"
      ],
      "metadata": {
        "id": "uNjRwsA_1rG2"
      }
    },
    {
      "cell_type": "code",
      "execution_count": 1,
      "metadata": {
        "colab": {
          "base_uri": "https://localhost:8080/"
        },
        "id": "Xzr6bg-j1emn",
        "outputId": "6544d359-257d-4614-fa1e-2110642e28e1"
      },
      "outputs": [
        {
          "output_type": "stream",
          "name": "stdout",
          "text": [
            "{'Ten': 10, 'Twenty': 20, 'Thirty': 30}\n"
          ]
        }
      ],
      "source": [
        "keys = ['Ten', 'Twenty', 'Thirty']\n",
        "values = [10, 20, 30]\n",
        "\n",
        "dictionary = dict(zip(keys, values))\n",
        "\n",
        "print(dictionary)\n"
      ]
    },
    {
      "cell_type": "markdown",
      "source": [
        "# Exercise 2:\n",
        " Merge two Python dictionaries into one"
      ],
      "metadata": {
        "id": "OCrUYl44Cc7E"
      }
    },
    {
      "cell_type": "code",
      "source": [
        "dict1 = {'Ten': 10, 'Twenty': 20, 'Thirty': 30}\n",
        "dict2 = {'Thirty': 30, 'Fourty': 40, 'Fifty': 50}\n",
        "\n",
        "dict1.update(dict2)\n",
        "\n",
        "print(dict1)"
      ],
      "metadata": {
        "colab": {
          "base_uri": "https://localhost:8080/"
        },
        "id": "0E6Um4PhCk1h",
        "outputId": "1bad940f-8308-458d-d4ec-a75c777ae786"
      },
      "execution_count": 2,
      "outputs": [
        {
          "output_type": "stream",
          "name": "stdout",
          "text": [
            "{'Ten': 10, 'Twenty': 20, 'Thirty': 30, 'Fourty': 40, 'Fifty': 50}\n"
          ]
        }
      ]
    },
    {
      "cell_type": "markdown",
      "source": [
        "# Exercise 3: \n",
        "Print the value of key ‘history’ from the\n",
        "below dict\n"
      ],
      "metadata": {
        "id": "nU2JUhPXCzlw"
      }
    },
    {
      "cell_type": "code",
      "source": [
        "sampleDict = {\n",
        " \"class\": {\n",
        "    \"student\": {\n",
        "       \"name\": \"Mike\",\n",
        "          \"marks\": {\n",
        "            \"physics\": 70,\n",
        "              \"history\": 80\n",
        "             }\n",
        "            }\n",
        "          }\n",
        "         }\n",
        "\n",
        "print(sampleDict['class']['student']['marks']['history'])"
      ],
      "metadata": {
        "colab": {
          "base_uri": "https://localhost:8080/"
        },
        "id": "bWUrdkESDZCd",
        "outputId": "880f27b0-a97c-49c0-9173-f886f2539d2f"
      },
      "execution_count": 3,
      "outputs": [
        {
          "output_type": "stream",
          "name": "stdout",
          "text": [
            "80\n"
          ]
        }
      ]
    },
    {
      "cell_type": "markdown",
      "source": [
        "# Exercise 4:\n",
        "Print First 10 natural numbers using while\n",
        "loop\n"
      ],
      "metadata": {
        "id": "LG0cDDGOEJTF"
      }
    },
    {
      "cell_type": "code",
      "source": [
        "i = 1\n",
        "while i <= 10:\n",
        "    print(i)\n",
        "    i += 1"
      ],
      "metadata": {
        "colab": {
          "base_uri": "https://localhost:8080/"
        },
        "id": "i9_PvDW6ERDd",
        "outputId": "9317b90e-355c-4267-89d6-3f870300e95e"
      },
      "execution_count": 4,
      "outputs": [
        {
          "output_type": "stream",
          "name": "stdout",
          "text": [
            "1\n",
            "2\n",
            "3\n",
            "4\n",
            "5\n",
            "6\n",
            "7\n",
            "8\n",
            "9\n",
            "10\n"
          ]
        }
      ]
    },
    {
      "cell_type": "markdown",
      "source": [
        "# Exercise 5: \n",
        "Print the following pattern\n",
        "\n",
        "\n",
        "---\n",
        "Write a program to print the following number pattern using a loop.\n"
      ],
      "metadata": {
        "id": "f4U5C92FEYM3"
      }
    },
    {
      "cell_type": "code",
      "source": [
        "for i in range(1, 6):\n",
        "    for j in range(1, i+1):\n",
        "        print(j, end=\" \")\n",
        "    print()"
      ],
      "metadata": {
        "colab": {
          "base_uri": "https://localhost:8080/"
        },
        "id": "h89qWOciEpnW",
        "outputId": "242bb6d8-1e80-47dc-9e50-5877dcb45d0e"
      },
      "execution_count": 5,
      "outputs": [
        {
          "output_type": "stream",
          "name": "stdout",
          "text": [
            "1 \n",
            "1 2 \n",
            "1 2 3 \n",
            "1 2 3 4 \n",
            "1 2 3 4 5 \n"
          ]
        }
      ]
    },
    {
      "cell_type": "markdown",
      "source": [
        "# Exercise 7:\n",
        "Write a program to print multiplication\n",
        "table of a given number\n",
        "\n",
        "\n",
        "---\n",
        "\n",
        "For example, num = 2 so the output should be"
      ],
      "metadata": {
        "id": "W9y03hKCEwvA"
      }
    },
    {
      "cell_type": "code",
      "source": [
        "num = 2\n",
        "for i in range(1, 11):\n",
        "    print(num * i)"
      ],
      "metadata": {
        "colab": {
          "base_uri": "https://localhost:8080/"
        },
        "id": "bFaQHXbzE9fv",
        "outputId": "f12e92e1-e525-4095-c48b-a7336bba138c"
      },
      "execution_count": 6,
      "outputs": [
        {
          "output_type": "stream",
          "name": "stdout",
          "text": [
            "2\n",
            "4\n",
            "6\n",
            "8\n",
            "10\n",
            "12\n",
            "14\n",
            "16\n",
            "18\n",
            "20\n"
          ]
        }
      ]
    }
  ]
}